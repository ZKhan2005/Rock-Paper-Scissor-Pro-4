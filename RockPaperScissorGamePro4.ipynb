{
  "nbformat": 4,
  "nbformat_minor": 0,
  "metadata": {
    "colab": {
      "provenance": []
    },
    "kernelspec": {
      "name": "python3",
      "display_name": "Python 3"
    },
    "language_info": {
      "name": "python"
    }
  },
  "cells": [
    {
      "cell_type": "markdown",
      "source": [
        "# **Project 4 : Rock  Paper Scissor Game Project In Python**\n",
        "# **Rock, Paper, Scissor Game**"
      ],
      "metadata": {
        "id": "ECwbmY6OEKoQ"
      }
    },
    {
      "cell_type": "code",
      "source": [
        "import random\n",
        "\n",
        "# Game choices\n",
        "choices = [\"rock\", \"paper\", \"scissors\"]\n",
        "\n",
        "# Player choice\n",
        "player_choice = input(\"Enter rock, paper, or scissors: \").lower()\n",
        "\n",
        "# Validate player input\n",
        "if player_choice not in choices:\n",
        "    print(\"❌ Invalid choice! Please enter rock, paper, or scissors.\")\n",
        "else:\n",
        "    # Computer choice\n",
        "    computer_choice = random.choice(choices)\n",
        "\n",
        "    print(f\"\\n🧑 Player's Choice: {player_choice} | 🤖 Computer's Choice: {computer_choice}\")\n",
        "\n",
        "    # Winner decision\n",
        "    if player_choice == computer_choice:\n",
        "        print(\"🤝 It's a tie!\")\n",
        "    elif (player_choice == \"rock\" and computer_choice == \"scissors\") or \\\n",
        "         (player_choice == \"paper\" and computer_choice == \"rock\") or \\\n",
        "         (player_choice == \"scissors\" and computer_choice == \"paper\"):\n",
        "        print(f\"🎉 Player wins! {player_choice} beats {computer_choice}\")\n",
        "    else:\n",
        "        print(f\"💔 Computer wins! {computer_choice} beats {player_choice}\")\n",
        "\n",
        ""
      ],
      "metadata": {
        "colab": {
          "base_uri": "https://localhost:8080/"
        },
        "id": "DcbkgY4-IYSk",
        "outputId": "31e50366-03cb-4b5d-ea57-14726d5f6965"
      },
      "execution_count": 10,
      "outputs": [
        {
          "output_type": "stream",
          "name": "stdout",
          "text": [
            "Enter rock, paper, or scissors: paper\n",
            "\n",
            "🧑 Player's Choice: paper | 🤖 Computer's Choice: rock\n",
            "🎉 Player wins! paper beats rock\n"
          ]
        }
      ]
    }
  ]
}